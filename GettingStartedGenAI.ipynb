{
 "cells": [
  {
   "cell_type": "markdown",
   "id": "82d87aa6",
   "metadata": {},
   "source": [
    "In this what we will start,\n",
    "\n",
    "1, Get setup Langchain, LangSmith and LangServe.\n",
    "2, Use the most basic and components of LangChain: Prompt templates, Models and output parsers.\n",
    "3, Build a Simple application with LangChain.\n",
    "4, Trace your application with LangSmith\n",
    "5, Serve your application with Langserve"
   ]
  },
  {
   "cell_type": "code",
   "execution_count": 3,
   "id": "26289479",
   "metadata": {},
   "outputs": [],
   "source": [
    "import os \n",
    "from dotenv import load_dotenv\n",
    "load_dotenv()\n",
    "\n",
    "os.environ[\"OPENAI_API_KEY\"]=os.getenv(\"OPENAI_API_KEY\")\n",
    "#Used for Langsmith tracking\n",
    "os.environ[\"LANGCHAIN_API_KEY\"]=os.getenv(\"LANGCHAIN_API_KEY\")\n",
    "os.environ[\"LANGCHAIN_TRACING_V2\"]=\"true\"\n",
    "os.environ[\"LANGCHAIN_PROJECT\"]=os.getenv(\"LANGCHAIN_PROJECT\")\n",
    "\n"
   ]
  },
  {
   "cell_type": "code",
   "execution_count": 4,
   "id": "e3c47e28",
   "metadata": {},
   "outputs": [
    {
     "name": "stdout",
     "output_type": "stream",
     "text": [
      "client=<openai.resources.chat.completions.completions.Completions object at 0x0000024DDDC8A890> async_client=<openai.resources.chat.completions.completions.AsyncCompletions object at 0x0000024DDE126890> root_client=<openai.OpenAI object at 0x0000024DDDC8B520> root_async_client=<openai.AsyncOpenAI object at 0x0000024DDE126800> model_name='gpt-4o' model_kwargs={} openai_api_key=SecretStr('**********')\n"
     ]
    }
   ],
   "source": [
    "# Use OPENAI LLM Models ( I already created API key from OPENAI - So that I use that models here) here in Langchain.\n",
    "#pip install langchain_openai to use models in langchain\n",
    "\n",
    "from langchain_openai import ChatOpenAI\n",
    "#create llm use api key\n",
    "#eg, llm=ChatOpen(api_key=\"\"), As I already used API key in env variable so no need to use it here. \n",
    "#How to call Specific model from openai\n",
    "llm=ChatOpenAI(model=\"gpt-4o\")\n",
    "print(llm)\n",
    "\n"
   ]
  },
  {
   "cell_type": "code",
   "execution_count": 5,
   "id": "36fc8f03",
   "metadata": {},
   "outputs": [
    {
     "data": {
      "text/plain": [
       "AIMessage(content=\"Generative AI, often abbreviated as Gen AI, refers to a category of artificial intelligence systems designed to generate content. This can include text, images, music, and other forms of media. Unlike traditional AI, which primarily focuses on recognizing patterns and making decisions based on existing data, generative AI models create new data that resembles the patterns and structures found in the training data.\\n\\nThe most well-known subsets of generative AI include:\\n\\n1. **Natural Language Processing Models**: These are designed to generate human-like text. Examples include OpenAI's GPT series, which can produce coherent and contextually relevant text based on input prompts.\\n\\n2. **Generative Adversarial Networks (GANs)**: These involve two neural networks, a generator and a discriminator, that work together to create realistic images. The generator creates new images, and the discriminator evaluates them, leading to improvements in the output.\\n\\n3. **Variational Autoencoders (VAEs)**: These are used for generating new images and data points by encoding input data into a latent space and then decoding it back.\\n\\n4. **Diffusion Models**: These models, used by systems like DALL-E and Stable Diffusion, generate images from textual descriptions, gradually transforming a random noise image into a coherent picture.\\n\\nGenerative AI has numerous applications, from content creation and design to simulation and modeling in various fields such as art, gaming, and scientific research.\", additional_kwargs={'refusal': None}, response_metadata={'token_usage': {'completion_tokens': 285, 'prompt_tokens': 12, 'total_tokens': 297, 'completion_tokens_details': {'accepted_prediction_tokens': 0, 'audio_tokens': 0, 'reasoning_tokens': 0, 'rejected_prediction_tokens': 0}, 'prompt_tokens_details': {'audio_tokens': 0, 'cached_tokens': 0}}, 'model_name': 'gpt-4o-2024-08-06', 'system_fingerprint': 'fp_cbf1785567', 'id': 'chatcmpl-CJ7ELqoTW1bwiLNZa2tBTFoKkTSNQ', 'service_tier': 'default', 'finish_reason': 'stop', 'logprobs': None}, id='run--e009fdfe-01f5-4844-938a-f74b83c9a17f-0', usage_metadata={'input_tokens': 12, 'output_tokens': 285, 'total_tokens': 297, 'input_token_details': {'audio': 0, 'cache_read': 0}, 'output_token_details': {'audio': 0, 'reasoning': 0}})"
      ]
     },
     "execution_count": 5,
     "metadata": {},
     "output_type": "execute_result"
    }
   ],
   "source": [
    "## Get input and get response from LLMs\n",
    "\n",
    "llm.invoke(\"What is GEN AI ?\")  "
   ]
  },
  {
   "cell_type": "code",
   "execution_count": 6,
   "id": "62755999",
   "metadata": {},
   "outputs": [
    {
     "name": "stderr",
     "output_type": "stream",
     "text": [
      "C:\\Users\\palang3\\AppData\\Local\\Temp\\ipykernel_11584\\3321099799.py:16: LangChainDeprecationWarning: The class `ChatOpenAI` was deprecated in LangChain 0.0.10 and will be removed in 1.0. An updated version of the class exists in the :class:`~langchain-openai package and should be used instead. To use it run `pip install -U :class:`~langchain-openai` and import as `from :class:`~langchain_openai import ChatOpenAI``.\n",
      "  llm = ChatOpenAI(model=\"gpt-4\", temperature=0)\n"
     ]
    },
    {
     "name": "stdout",
     "output_type": "stream",
     "text": [
      "Response: GEN AI is an artificial intelligence platform developed by OpenAI. It is designed to generate human-like text based on the prompts given to it. It uses machine learning algorithms to understand and respond to text inputs, making it capable of tasks like translation, answering questions, writing essays, and more. It's the technology behind applications like ChatGPT.\n"
     ]
    }
   ],
   "source": [
    "from langsmith import traceable\n",
    "from langchain.chat_models import ChatOpenAI\n",
    "from langchain.schema import HumanMessage\n",
    "import os\n",
    "from dotenv import load_dotenv\n",
    "\n",
    "# Load from .env file\n",
    "load_dotenv()\n",
    "\n",
    "# Manually set environment (safest)\n",
    "os.environ[\"LANGCHAIN_API_KEY\"] = os.getenv(\"LANGCHAIN_API_KEY\")\n",
    "os.environ[\"LANGCHAIN_PROJECT\"] = os.getenv(\"LANGCHAIN_PROJECT\")\n",
    "os.environ[\"LANGCHAIN_TRACING_V2\"] = \"true\"\n",
    "\n",
    "# Initialize LLM\n",
    "llm = ChatOpenAI(model=\"gpt-4\", temperature=0)\n",
    "\n",
    "# Force a traced run\n",
    "@traceable(name=\"LangSmith Test Run\")\n",
    "def ask_llm():\n",
    "    return llm.invoke([HumanMessage(content=\"What is GEN AI?\")])\n",
    "\n",
    "response = ask_llm()\n",
    "print(\"Response:\", response.content)\n"
   ]
  },
  {
   "cell_type": "code",
   "execution_count": null,
   "id": "bcd7f5dd",
   "metadata": {},
   "outputs": [],
   "source": [
    "#angSmith is a development and LLMOps platform for building, debugging, testing, monitoring, and evaluating applications powered by large language models (LLMs). \n",
    "# Developed by the creators of LangChain, LangSmith provides unified observability, tracing, prompt management, and evaluation tools to help developers ensure LLM applications are robust and reliable in real-world production environments. "
   ]
  },
  {
   "cell_type": "markdown",
   "id": "7506deda",
   "metadata": {},
   "source": [
    "Prompt templates help to translate user input and parameters into instructions for a language model. This can be used to guide a model's response, helping it understand the context and generate relevant and coherent language-based output.\n",
    "\n",
    "Prompt Templates take as input a dictionary, where each key represents a variable in the prompt template to fill in."
   ]
  },
  {
   "cell_type": "code",
   "execution_count": 7,
   "id": "634adc31",
   "metadata": {},
   "outputs": [
    {
     "data": {
      "text/plain": [
       "ChatPromptTemplate(input_variables=['input'], input_types={}, partial_variables={}, messages=[SystemMessagePromptTemplate(prompt=PromptTemplate(input_variables=[], input_types={}, partial_variables={}, template='Your are an expert AI Engineer. Provide me answers based on the questions.'), additional_kwargs={}), HumanMessagePromptTemplate(prompt=PromptTemplate(input_variables=['input'], input_types={}, partial_variables={}, template='{input}'), additional_kwargs={})])"
      ]
     },
     "execution_count": 7,
     "metadata": {},
     "output_type": "execute_result"
    }
   ],
   "source": [
    "# Chatprompt Template\n",
    "\n",
    "from langchain_core.prompts import ChatPromptTemplate\n",
    "#How LLM must behave for the query \n",
    "prompt=ChatPromptTemplate.from_messages(\n",
    "    [\n",
    "        (\"system\", \"Your are an expert AI Engineer. Provide me answers based on the questions.\"),\n",
    "        #To user\n",
    "        (\"user\", \"{input}\")\n",
    "    ]\n",
    ")\n",
    "prompt"
   ]
  },
  {
   "cell_type": "code",
   "execution_count": 10,
   "id": "cb99c3c2",
   "metadata": {},
   "outputs": [
    {
     "name": "stdout",
     "output_type": "stream",
     "text": [
      "content='Tamil Nadu is one of the 28 states of India, located in the southernmost part of the country. It is bounded by the Indian Ocean to the east and south, Kerala to the west, Karnataka to the northwest, and Andhra Pradesh to the north. The capital and largest city is Chennai.\\n\\nTamil Nadu is known for its rich culture and history, and it is one of the oldest civilizations in the world. It is home to many natural resources, classical arts, classical music, classical literature, Hindu temples of Dravidian architecture, hill stations, beach resorts, multi-religious pilgrimage sites, and eight UNESCO World Heritage Sites.\\n\\nThe economy of Tamil Nadu is one of the most industrialized in the country, with a diverse range of industries such as information technology, automotive, manufacturing, pharmaceuticals, textiles, and hardware.\\n\\nTamil is the official language of the state, and the cuisine of Tamil Nadu is renowned for its complex flavors and a wide variety of vegetarian and non-vegetarian dishes.\\n\\nTamil Nadu is also known for its film industry, known as Kollywood, which is one of the largest film industries in India.' additional_kwargs={} response_metadata={'token_usage': {'completion_tokens': 231, 'prompt_tokens': 33, 'total_tokens': 264, 'completion_tokens_details': {'accepted_prediction_tokens': 0, 'audio_tokens': 0, 'reasoning_tokens': 0, 'rejected_prediction_tokens': 0}, 'prompt_tokens_details': {'audio_tokens': 0, 'cached_tokens': 0}}, 'model_name': 'gpt-4', 'system_fingerprint': None, 'finish_reason': 'stop', 'logprobs': None} id='run--1ce9f425-1cc6-4ee5-ad56-042238f6ec21-0'\n"
     ]
    }
   ],
   "source": [
    "#Use this prompt along with LLM models.\n",
    "\n",
    "# Create a chain ( ) (Combine prompt and LLM models (Its a flow) use pipe symbol.) \n",
    "chain=prompt|llm\n",
    "response=chain.invoke({\"input\":\"tell me about Tamilnadu?\"})\n",
    "print(response)\n",
    "\n",
    "\n"
   ]
  },
  {
   "cell_type": "code",
   "execution_count": 12,
   "id": "a7e9d6a9",
   "metadata": {},
   "outputs": [
    {
     "name": "stdout",
     "output_type": "stream",
     "text": [
      "Coimbatore, also known as Kovai, is a major city in the Indian state of Tamil Nadu. It is located on the banks of the Noyyal River and surrounded by the Western Ghats. Coimbatore is the second largest city in Tamil Nadu after Chennai and the 16th largest urban agglomeration in India. It is administered by the Coimbatore Municipal Corporation and is the administrative capital of Coimbatore district.\n",
      "\n",
      "Coimbatore is a major hub for textiles, industries, commerce, education, information technology, healthcare and manufacturing in Tamil Nadu. It is often referred to as the \"Manchester of South India\" due to its cotton production and textile industries. The city is also known for its entrepreneurship based economy.\n",
      "\n",
      "The city is also known for its educational institutions. Coimbatore houses a number of universities, colleges, and other institutions. It's also a major center for health care in the region.\n",
      "\n",
      "Coimbatore is also known for its pleasant climate, hospitality, and multicultural population. The city celebrates a number of festivals throughout the year, with Pongal and Diwali being the most important ones. The city is also famous for its unique cuisine, which includes a variety of vegetarian and non-vegetarian dishes.\n"
     ]
    }
   ],
   "source": [
    "#Output Parser <>\n",
    "from langchain_core.output_parsers import StrOutputParser\n",
    "output_parser=StrOutputParser()\n",
    "#Create Chain (Prompt , llm, output parser)\n",
    "\n",
    "chain=prompt|llm|output_parser\n",
    "response=chain.invoke({\"input\":\"Tell me about Coimbatore?\"})\n",
    "print(response)"
   ]
  }
 ],
 "metadata": {
  "kernelspec": {
   "display_name": "venv",
   "language": "python",
   "name": "python3"
  },
  "language_info": {
   "codemirror_mode": {
    "name": "ipython",
    "version": 3
   },
   "file_extension": ".py",
   "mimetype": "text/x-python",
   "name": "python",
   "nbconvert_exporter": "python",
   "pygments_lexer": "ipython3",
   "version": "3.10.5"
  }
 },
 "nbformat": 4,
 "nbformat_minor": 5
}
