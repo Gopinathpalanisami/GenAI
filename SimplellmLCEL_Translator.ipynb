{
 "cells": [
  {
   "cell_type": "code",
   "execution_count": null,
   "id": "1acb15f1",
   "metadata": {},
   "outputs": [],
   "source": [
    "#Build Simple LLM Application for LCEL\n",
    "\n",
    "#We build simple LLM applications with Langchain.\n",
    "#This application will translate text from english into another language.\n",
    "\n",
    "#1, Using LLMs\n",
    "#2, Using PromptTemplates and OutputParsers\n",
    "#3, Using LangChain Expression Language (LCEL) to chain components together\n",
    "#4, Debegging / Tracing ur application using Langsmith\n",
    "#5, Deploying ur application with LangServe.\n",
    "\n"
   ]
  },
  {
   "cell_type": "code",
   "execution_count": 6,
   "id": "7beea7b9",
   "metadata": {},
   "outputs": [
    {
     "data": {
      "text/plain": [
       "'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'"
      ]
     },
     "execution_count": 6,
     "metadata": {},
     "output_type": "execute_result"
    }
   ],
   "source": [
    "## OPEN AI API Key and Open Source models--Llama3,Gemma2,mistral\n",
    "\n",
    "# To use these models we going to Groq platforms (LPU)\n",
    "\n",
    "import os\n",
    "from dotenv import load_dotenv\n",
    "load_dotenv()\n",
    "\n",
    "import openai\n",
    "openai.api_key=os.getenv(\"OPENAI_API_KEY\")\n",
    "\n",
    "groq_api_key=os.getenv(\"GROQ_API_KEY\")\n",
    "groq_api_key"
   ]
  },
  {
   "cell_type": "code",
   "execution_count": 7,
   "id": "10368a38",
   "metadata": {},
   "outputs": [
    {
     "data": {
      "text/plain": [
       "ChatGroq(client=<groq.resources.chat.completions.Completions object at 0x000001FBBECA0220>, async_client=<groq.resources.chat.completions.AsyncCompletions object at 0x000001FBBECA0130>, model_name='llama-3.1-8b-instant', model_kwargs={}, groq_api_key=SecretStr('**********'))"
      ]
     },
     "execution_count": 7,
     "metadata": {},
     "output_type": "execute_result"
    }
   ],
   "source": [
    "#To interact with LLM models using Groq (Install pip langchain_groq)\n",
    "\n",
    "from langchain_openai import ChatOpenAI\n",
    "from langchain_groq import ChatGroq\n",
    "\n",
    "model=ChatGroq(model=\"llama-3.1-8b-instant\",groq_api_key=groq_api_key)\n",
    "model\n"
   ]
  },
  {
   "cell_type": "code",
   "execution_count": 8,
   "id": "0b1ca494",
   "metadata": {},
   "outputs": [],
   "source": [
    "#When we provide by humanbeing , which message - Instruct to LLM model (System messages)\n",
    "from langchain_core.messages import HumanMessage,SystemMessage\n",
    "#How LLM model should behave - system messages.\n",
    "#HumanMessage (Content send to LLM and get the response)\n",
    "messages=[\n",
    "    SystemMessage(content=\"Translate the following from English to Tamil.\"),\n",
    "    HumanMessage(content=\"Hello How are you ?\")\n",
    "]\n",
    "\n",
    "response = model.invoke(messages)"
   ]
  },
  {
   "cell_type": "code",
   "execution_count": 9,
   "id": "608bf541",
   "metadata": {},
   "outputs": [
    {
     "data": {
      "text/plain": [
       "'வணக்கம். நான் எப்படி இருக்கிறேன்?'"
      ]
     },
     "execution_count": 9,
     "metadata": {},
     "output_type": "execute_result"
    }
   ],
   "source": [
    "#We need only Content output >> In langchain we have str output praser.\n",
    "\n",
    "from langchain_core.output_parsers import StrOutputParser\n",
    "parser=StrOutputParser()\n",
    "#Take content and display from AI Message.\n",
    "parser.invoke(response)"
   ]
  },
  {
   "cell_type": "code",
   "execution_count": 10,
   "id": "a9fd6918",
   "metadata": {},
   "outputs": [
    {
     "data": {
      "text/plain": [
       "'வணக்கம். நான் நலமா?'"
      ]
     },
     "execution_count": 10,
     "metadata": {},
     "output_type": "execute_result"
    }
   ],
   "source": [
    "## Using LCEL - We can chain the components \n",
    "#LCEL (LangChain Expression Language) is a unified interface and syntax within LangChain that simplifies building, composing, and deploying production-ready chains of AI components, \n",
    "#such as LLMs, prompts, and parsers. It uses a declarative \"pipe\" (|) syntax to connect these components, allowing data to flow from left to right.\n",
    "\n",
    "chain = model|parser\n",
    "#Messages -- > Model (Output AI messages ) >> Parser ( Content Output Only)\n",
    "chain.invoke(messages)"
   ]
  },
  {
   "cell_type": "code",
   "execution_count": 14,
   "id": "0f13b37e",
   "metadata": {},
   "outputs": [],
   "source": [
    "## Using Prompt Templates\n",
    "#Custom> How to take Inputs to models \n",
    "\n",
    "from langchain_core.prompts import ChatPromptTemplate\n",
    "\n",
    "generic_template=\"Translate the following into {language}:\"\n",
    "\n",
    "prompt=ChatPromptTemplate.from_messages(\n",
    "    [(\"system\",generic_template),(\"user\",\"{text}\")]\n",
    ")"
   ]
  },
  {
   "cell_type": "code",
   "execution_count": 16,
   "id": "df809a2d",
   "metadata": {},
   "outputs": [],
   "source": [
    "result=prompt.invoke({\"language\":\"Tamil\", \"text\":\"Hello\"})"
   ]
  },
  {
   "cell_type": "code",
   "execution_count": 17,
   "id": "ba78742c",
   "metadata": {},
   "outputs": [
    {
     "data": {
      "text/plain": [
       "[SystemMessage(content='Translate the following into Tamil:', additional_kwargs={}, response_metadata={}),\n",
       " HumanMessage(content='Hello', additional_kwargs={}, response_metadata={})]"
      ]
     },
     "execution_count": 17,
     "metadata": {},
     "output_type": "execute_result"
    }
   ],
   "source": [
    "result.to_messages()"
   ]
  },
  {
   "cell_type": "code",
   "execution_count": 19,
   "id": "400c842d",
   "metadata": {},
   "outputs": [
    {
     "data": {
      "text/plain": [
       "'வணக்கம்.'"
      ]
     },
     "execution_count": 19,
     "metadata": {},
     "output_type": "execute_result"
    }
   ],
   "source": [
    "#Create a Chain \n",
    "\n",
    "chain=prompt|model|parser\n",
    "chain.invoke({\"language\":\"Tamil\",\"text\":\"Hello\"})"
   ]
  },
  {
   "cell_type": "code",
   "execution_count": null,
   "id": "3841a220",
   "metadata": {},
   "outputs": [],
   "source": []
  },
  {
   "cell_type": "code",
   "execution_count": null,
   "id": "5afde160",
   "metadata": {},
   "outputs": [],
   "source": []
  }
 ],
 "metadata": {
  "kernelspec": {
   "display_name": "venv",
   "language": "python",
   "name": "python3"
  },
  "language_info": {
   "codemirror_mode": {
    "name": "ipython",
    "version": 3
   },
   "file_extension": ".py",
   "mimetype": "text/x-python",
   "name": "python",
   "nbconvert_exporter": "python",
   "pygments_lexer": "ipython3",
   "version": "3.10.5"
  }
 },
 "nbformat": 4,
 "nbformat_minor": 5
}
