{
 "cells": [
  {
   "cell_type": "code",
   "execution_count": 4,
   "id": "e30b43ee",
   "metadata": {
    "vscode": {
     "languageId": "html"
    }
   },
   "outputs": [
    {
     "data": {
      "text/plain": [
       "[Document(metadata={'Header 1': 'Foo Header 1'}, page_content='Foo Header 1'),\n",
       " Document(metadata={'Header 1': 'Foo Header 1'}, page_content='This is a paragraph inside a div tag. It contains the word Foo.'),\n",
       " Document(metadata={'Header 1': 'Foo Header 1', 'Header 2': 'Foo Header 2'}, page_content='Foo Header 2'),\n",
       " Document(metadata={'Header 1': 'Foo Header 1', 'Header 2': 'Foo Header 2'}, page_content='Another paragraph with a line break and Foo word.'),\n",
       " Document(metadata={'Header 1': 'Foo Header 1', 'Header 2': 'Foo Header 2', 'Header 3': 'Foo Header 3'}, page_content='Foo Header 3'),\n",
       " Document(metadata={'Header 1': 'Foo Header 1', 'Header 2': 'Foo Header 2', 'Header 3': 'Foo Header 3'}, page_content='Last paragraph inside another div tag. Foo again!')]"
      ]
     },
     "execution_count": 4,
     "metadata": {},
     "output_type": "execute_result"
    }
   ],
   "source": [
    "from langchain_text_splitters import HTMLHeaderTextSplitter\n",
    "\n",
    "html_string = \"\"\"\n",
    "<!DOCTYPE html>\n",
    "<html lang=\"en\">\n",
    "<head>\n",
    "    <meta charset=\"UTF-8\" />\n",
    "    <title>Foo Example with Tags</title>\n",
    "</head>\n",
    "<body>\n",
    "    <h1>Foo Header 1</h1>\n",
    "    <div>\n",
    "        <p>This is a paragraph inside a div tag.<br />It contains the word Foo.</p>\n",
    "    </div>\n",
    "\n",
    "    <h2>Foo Header 2</h2>\n",
    "    <p>Another paragraph with<br />a line break and Foo word.</p>\n",
    "\n",
    "    <h3>Foo Header 3</h3>\n",
    "    <div>\n",
    "        <p>Last paragraph inside another div tag.<br />Foo again!</p>\n",
    "    </div>\n",
    "</body>\n",
    "</html>\n",
    "\"\"\"\n",
    "\n",
    "headers_to_split_on=[\n",
    "    (\"h1\", \"Header 1\"),\n",
    "    (\"h2\", \"Header 2\"),\n",
    "    (\"h3\", \"Header 3\")\n",
    "]\n",
    "\n",
    "html_splitter=HTMLHeaderTextSplitter(headers_to_split_on)\n",
    "html_splitter_splits = html_splitter.split_text(html_string)\n",
    "html_splitter_splits\n"
   ]
  },
  {
   "cell_type": "code",
   "execution_count": null,
   "id": "04790a00",
   "metadata": {},
   "outputs": [
    {
     "ename": "ImportError",
     "evalue": "cannot import name 'HTMLTextSplitter' from 'langchain_text_splitters' (c:\\Users\\palang3\\OneDrive - Dell Technologies\\Desktop\\AI_Friends\\GENAI\\LangChain\\venv\\lib\\site-packages\\langchain_text_splitters\\__init__.py)",
     "output_type": "error",
     "traceback": [
      "\u001b[1;31m---------------------------------------------------------------------------\u001b[0m",
      "\u001b[1;31mImportError\u001b[0m                               Traceback (most recent call last)",
      "Cell \u001b[1;32mIn[7], line 1\u001b[0m\n\u001b[1;32m----> 1\u001b[0m \u001b[38;5;28;01mfrom\u001b[39;00m\u001b[38;5;250m \u001b[39m\u001b[38;5;21;01mlangchain_text_splitters\u001b[39;00m\u001b[38;5;250m \u001b[39m\u001b[38;5;28;01mimport\u001b[39;00m HTMLTextSplitter\n\u001b[0;32m      4\u001b[0m \u001b[38;5;66;03m# Initialize the HTMLTextSplitter\u001b[39;00m\n\u001b[0;32m      5\u001b[0m splitter \u001b[38;5;241m=\u001b[39m HTMLTextSplitter()\n",
      "\u001b[1;31mImportError\u001b[0m: cannot import name 'HTMLTextSplitter' from 'langchain_text_splitters' (c:\\Users\\palang3\\OneDrive - Dell Technologies\\Desktop\\AI_Friends\\GENAI\\LangChain\\venv\\lib\\site-packages\\langchain_text_splitters\\__init__.py)"
     ]
    }
   ],
   "source": [
    "#from langchain_text_splitters import HTMLTextSplitter\n",
    "\n",
    "\n",
    "# Initialize the HTMLTextSplitter\n",
    "splitter = HTMLTextSplitter()\n",
    "\n",
    "# Split the HTML text into chunks\n",
    "chunks = splitter.split_text(html_string)\n",
    "\n",
    "# Print chunks\n",
    "for i, chunk in enumerate(chunks):\n",
    "    print(f\"Chunk {i+1}:\\n{chunk}\\n\")"
   ]
  },
  {
   "cell_type": "code",
   "execution_count": null,
   "id": "f0a5569c",
   "metadata": {},
   "outputs": [],
   "source": []
  },
  {
   "cell_type": "code",
   "execution_count": null,
   "id": "e8317463",
   "metadata": {},
   "outputs": [],
   "source": []
  },
  {
   "cell_type": "code",
   "execution_count": null,
   "id": "8ca15ccf",
   "metadata": {},
   "outputs": [],
   "source": []
  },
  {
   "cell_type": "code",
   "execution_count": null,
   "id": "8f37a072",
   "metadata": {},
   "outputs": [],
   "source": []
  }
 ],
 "metadata": {
  "kernelspec": {
   "display_name": "venv",
   "language": "python",
   "name": "python3"
  },
  "language_info": {
   "codemirror_mode": {
    "name": "ipython",
    "version": 3
   },
   "file_extension": ".py",
   "mimetype": "text/x-python",
   "name": "python",
   "nbconvert_exporter": "python",
   "pygments_lexer": "ipython3",
   "version": "3.10.5"
  }
 },
 "nbformat": 4,
 "nbformat_minor": 5
}
